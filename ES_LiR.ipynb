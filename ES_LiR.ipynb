{
  "nbformat": 4,
  "nbformat_minor": 0,
  "metadata": {
    "colab": {
      "provenance": [],
      "authorship_tag": "ABX9TyMSzQMWUWVRK1uaQeZjlUld",
      "include_colab_link": true
    },
    "kernelspec": {
      "name": "python3",
      "display_name": "Python 3"
    },
    "language_info": {
      "name": "python"
    }
  },
  "cells": [
    {
      "cell_type": "markdown",
      "metadata": {
        "id": "view-in-github",
        "colab_type": "text"
      },
      "source": [
        "<a href=\"https://colab.research.google.com/github/Naveensani/Machine-learning-for-battery-electrolyte-solvents/blob/main/ES_LiR.ipynb\" target=\"_parent\"><img src=\"https://colab.research.google.com/assets/colab-badge.svg\" alt=\"Open In Colab\"/></a>"
      ]
    },
    {
      "cell_type": "code",
      "execution_count": null,
      "metadata": {
        "id": "rC-Sta9wtcmw"
      },
      "outputs": [],
      "source": [
        "import pandas as pd\n",
        "import numpy as np\n",
        "from sklearn.linear_model import LinearRegression\n",
        "from sklearn.model_selection import KFold, cross_val_score"
      ]
    },
    {
      "cell_type": "code",
      "source": [
        "data_df = pd.read_csv('/content/Data - Sheet1.csv')"
      ],
      "metadata": {
        "id": "H5SzrLm5toxT"
      },
      "execution_count": null,
      "outputs": []
    },
    {
      "cell_type": "code",
      "source": [
        "data_df.head()"
      ],
      "metadata": {
        "colab": {
          "base_uri": "https://localhost:8080/",
          "height": 270
        },
        "id": "RNA40ZLXJNyT",
        "outputId": "63fcd1fe-5706-457a-fa67-365893325d59"
      },
      "execution_count": null,
      "outputs": [
        {
          "output_type": "execute_result",
          "data": {
            "text/plain": [
              "   IonicRadius(Å)  Electronegativity  AtomicWeight(u)  HOMOenergy  LUMOenergy  \\\n",
              "0            0.76               0.98             6.94   -6.265196    0.293367   \n",
              "1            0.76               0.98             6.94   -7.685002    0.087234   \n",
              "2            0.76               0.98             6.94   -8.021337    0.914998   \n",
              "3            0.76               0.98             6.94   -7.766342    1.113763   \n",
              "4            0.76               0.98             6.94   -6.484090    1.782747   \n",
              "\n",
              "   TotalDipole  TotalEnergy  BoilingPoint  FlashingPoint  MeltingPoint  \\\n",
              "0     0.108254 -6259.724643          31.0          -35.0         -85.6   \n",
              "1     1.091592 -6233.350598          34.0          -26.0        -100.0   \n",
              "2    -1.054855 -9317.849120         244.0          152.0          38.0   \n",
              "3    -0.075170 -9350.680139          90.0           17.0           4.0   \n",
              "4     0.000007 -8372.272328         101.0           12.0          11.5   \n",
              "\n",
              "   MolecularWeight  Density  CoordinationEnergy  \n",
              "0            68.07    0.940           -1.376087  \n",
              "1            60.05    0.974           -2.298388  \n",
              "2            88.06    1.320           -2.422717  \n",
              "3            90.08    1.070           -2.165763  \n",
              "4            88.11    1.034           -1.874273  "
            ],
            "text/html": [
              "\n",
              "  <div id=\"df-9cd29b66-caf9-4d31-b848-9e4c1472f365\">\n",
              "    <div class=\"colab-df-container\">\n",
              "      <div>\n",
              "<style scoped>\n",
              "    .dataframe tbody tr th:only-of-type {\n",
              "        vertical-align: middle;\n",
              "    }\n",
              "\n",
              "    .dataframe tbody tr th {\n",
              "        vertical-align: top;\n",
              "    }\n",
              "\n",
              "    .dataframe thead th {\n",
              "        text-align: right;\n",
              "    }\n",
              "</style>\n",
              "<table border=\"1\" class=\"dataframe\">\n",
              "  <thead>\n",
              "    <tr style=\"text-align: right;\">\n",
              "      <th></th>\n",
              "      <th>IonicRadius(Å)</th>\n",
              "      <th>Electronegativity</th>\n",
              "      <th>AtomicWeight(u)</th>\n",
              "      <th>HOMOenergy</th>\n",
              "      <th>LUMOenergy</th>\n",
              "      <th>TotalDipole</th>\n",
              "      <th>TotalEnergy</th>\n",
              "      <th>BoilingPoint</th>\n",
              "      <th>FlashingPoint</th>\n",
              "      <th>MeltingPoint</th>\n",
              "      <th>MolecularWeight</th>\n",
              "      <th>Density</th>\n",
              "      <th>CoordinationEnergy</th>\n",
              "    </tr>\n",
              "  </thead>\n",
              "  <tbody>\n",
              "    <tr>\n",
              "      <th>0</th>\n",
              "      <td>0.76</td>\n",
              "      <td>0.98</td>\n",
              "      <td>6.94</td>\n",
              "      <td>-6.265196</td>\n",
              "      <td>0.293367</td>\n",
              "      <td>0.108254</td>\n",
              "      <td>-6259.724643</td>\n",
              "      <td>31.0</td>\n",
              "      <td>-35.0</td>\n",
              "      <td>-85.6</td>\n",
              "      <td>68.07</td>\n",
              "      <td>0.940</td>\n",
              "      <td>-1.376087</td>\n",
              "    </tr>\n",
              "    <tr>\n",
              "      <th>1</th>\n",
              "      <td>0.76</td>\n",
              "      <td>0.98</td>\n",
              "      <td>6.94</td>\n",
              "      <td>-7.685002</td>\n",
              "      <td>0.087234</td>\n",
              "      <td>1.091592</td>\n",
              "      <td>-6233.350598</td>\n",
              "      <td>34.0</td>\n",
              "      <td>-26.0</td>\n",
              "      <td>-100.0</td>\n",
              "      <td>60.05</td>\n",
              "      <td>0.974</td>\n",
              "      <td>-2.298388</td>\n",
              "    </tr>\n",
              "    <tr>\n",
              "      <th>2</th>\n",
              "      <td>0.76</td>\n",
              "      <td>0.98</td>\n",
              "      <td>6.94</td>\n",
              "      <td>-8.021337</td>\n",
              "      <td>0.914998</td>\n",
              "      <td>-1.054855</td>\n",
              "      <td>-9317.849120</td>\n",
              "      <td>244.0</td>\n",
              "      <td>152.0</td>\n",
              "      <td>38.0</td>\n",
              "      <td>88.06</td>\n",
              "      <td>1.320</td>\n",
              "      <td>-2.422717</td>\n",
              "    </tr>\n",
              "    <tr>\n",
              "      <th>3</th>\n",
              "      <td>0.76</td>\n",
              "      <td>0.98</td>\n",
              "      <td>6.94</td>\n",
              "      <td>-7.766342</td>\n",
              "      <td>1.113763</td>\n",
              "      <td>-0.075170</td>\n",
              "      <td>-9350.680139</td>\n",
              "      <td>90.0</td>\n",
              "      <td>17.0</td>\n",
              "      <td>4.0</td>\n",
              "      <td>90.08</td>\n",
              "      <td>1.070</td>\n",
              "      <td>-2.165763</td>\n",
              "    </tr>\n",
              "    <tr>\n",
              "      <th>4</th>\n",
              "      <td>0.76</td>\n",
              "      <td>0.98</td>\n",
              "      <td>6.94</td>\n",
              "      <td>-6.484090</td>\n",
              "      <td>1.782747</td>\n",
              "      <td>0.000007</td>\n",
              "      <td>-8372.272328</td>\n",
              "      <td>101.0</td>\n",
              "      <td>12.0</td>\n",
              "      <td>11.5</td>\n",
              "      <td>88.11</td>\n",
              "      <td>1.034</td>\n",
              "      <td>-1.874273</td>\n",
              "    </tr>\n",
              "  </tbody>\n",
              "</table>\n",
              "</div>\n",
              "      <button class=\"colab-df-convert\" onclick=\"convertToInteractive('df-9cd29b66-caf9-4d31-b848-9e4c1472f365')\"\n",
              "              title=\"Convert this dataframe to an interactive table.\"\n",
              "              style=\"display:none;\">\n",
              "        \n",
              "  <svg xmlns=\"http://www.w3.org/2000/svg\" height=\"24px\"viewBox=\"0 0 24 24\"\n",
              "       width=\"24px\">\n",
              "    <path d=\"M0 0h24v24H0V0z\" fill=\"none\"/>\n",
              "    <path d=\"M18.56 5.44l.94 2.06.94-2.06 2.06-.94-2.06-.94-.94-2.06-.94 2.06-2.06.94zm-11 1L8.5 8.5l.94-2.06 2.06-.94-2.06-.94L8.5 2.5l-.94 2.06-2.06.94zm10 10l.94 2.06.94-2.06 2.06-.94-2.06-.94-.94-2.06-.94 2.06-2.06.94z\"/><path d=\"M17.41 7.96l-1.37-1.37c-.4-.4-.92-.59-1.43-.59-.52 0-1.04.2-1.43.59L10.3 9.45l-7.72 7.72c-.78.78-.78 2.05 0 2.83L4 21.41c.39.39.9.59 1.41.59.51 0 1.02-.2 1.41-.59l7.78-7.78 2.81-2.81c.8-.78.8-2.07 0-2.86zM5.41 20L4 18.59l7.72-7.72 1.47 1.35L5.41 20z\"/>\n",
              "  </svg>\n",
              "      </button>\n",
              "      \n",
              "  <style>\n",
              "    .colab-df-container {\n",
              "      display:flex;\n",
              "      flex-wrap:wrap;\n",
              "      gap: 12px;\n",
              "    }\n",
              "\n",
              "    .colab-df-convert {\n",
              "      background-color: #E8F0FE;\n",
              "      border: none;\n",
              "      border-radius: 50%;\n",
              "      cursor: pointer;\n",
              "      display: none;\n",
              "      fill: #1967D2;\n",
              "      height: 32px;\n",
              "      padding: 0 0 0 0;\n",
              "      width: 32px;\n",
              "    }\n",
              "\n",
              "    .colab-df-convert:hover {\n",
              "      background-color: #E2EBFA;\n",
              "      box-shadow: 0px 1px 2px rgba(60, 64, 67, 0.3), 0px 1px 3px 1px rgba(60, 64, 67, 0.15);\n",
              "      fill: #174EA6;\n",
              "    }\n",
              "\n",
              "    [theme=dark] .colab-df-convert {\n",
              "      background-color: #3B4455;\n",
              "      fill: #D2E3FC;\n",
              "    }\n",
              "\n",
              "    [theme=dark] .colab-df-convert:hover {\n",
              "      background-color: #434B5C;\n",
              "      box-shadow: 0px 1px 3px 1px rgba(0, 0, 0, 0.15);\n",
              "      filter: drop-shadow(0px 1px 2px rgba(0, 0, 0, 0.3));\n",
              "      fill: #FFFFFF;\n",
              "    }\n",
              "  </style>\n",
              "\n",
              "      <script>\n",
              "        const buttonEl =\n",
              "          document.querySelector('#df-9cd29b66-caf9-4d31-b848-9e4c1472f365 button.colab-df-convert');\n",
              "        buttonEl.style.display =\n",
              "          google.colab.kernel.accessAllowed ? 'block' : 'none';\n",
              "\n",
              "        async function convertToInteractive(key) {\n",
              "          const element = document.querySelector('#df-9cd29b66-caf9-4d31-b848-9e4c1472f365');\n",
              "          const dataTable =\n",
              "            await google.colab.kernel.invokeFunction('convertToInteractive',\n",
              "                                                     [key], {});\n",
              "          if (!dataTable) return;\n",
              "\n",
              "          const docLinkHtml = 'Like what you see? Visit the ' +\n",
              "            '<a target=\"_blank\" href=https://colab.research.google.com/notebooks/data_table.ipynb>data table notebook</a>'\n",
              "            + ' to learn more about interactive tables.';\n",
              "          element.innerHTML = '';\n",
              "          dataTable['output_type'] = 'display_data';\n",
              "          await google.colab.output.renderOutput(dataTable, element);\n",
              "          const docLink = document.createElement('div');\n",
              "          docLink.innerHTML = docLinkHtml;\n",
              "          element.appendChild(docLink);\n",
              "        }\n",
              "      </script>\n",
              "    </div>\n",
              "  </div>\n",
              "  "
            ]
          },
          "metadata": {},
          "execution_count": 3
        }
      ]
    },
    {
      "cell_type": "code",
      "source": [
        "X = data_df.drop(['CoordinationEnergy'],axis=1)\n",
        "y = data_df['CoordinationEnergy']"
      ],
      "metadata": {
        "id": "XO0JO7l7JQHK"
      },
      "execution_count": null,
      "outputs": []
    },
    {
      "cell_type": "code",
      "source": [
        "print(X)"
      ],
      "metadata": {
        "colab": {
          "base_uri": "https://localhost:8080/"
        },
        "id": "dgNXnoVTKZiX",
        "outputId": "6a8120ea-b6b9-4b1c-b176-6899815c8758"
      },
      "execution_count": null,
      "outputs": [
        {
          "output_type": "stream",
          "name": "stdout",
          "text": [
            "     IonicRadius(Å)  Electronegativity  AtomicWeight(u)  HOMOenergy  \\\n",
            "0              0.76               0.98            6.940   -6.265196   \n",
            "1              0.76               0.98            6.940   -7.685002   \n",
            "2              0.76               0.98            6.940   -8.021337   \n",
            "3              0.76               0.98            6.940   -7.766342   \n",
            "4              0.76               0.98            6.940   -6.484090   \n",
            "..              ...                ...              ...         ...   \n",
            "127            0.72               1.31           24.305   -8.016414   \n",
            "128            0.72               1.31           24.305   -7.647719   \n",
            "129            0.72               1.31           24.305   -6.904810   \n",
            "130            0.72               1.31           24.305   -6.916794   \n",
            "131            0.72               1.31           24.305   -6.494512   \n",
            "\n",
            "     LUMOenergy   TotalDipole   TotalEnergy  BoilingPoint  FlashingPoint  \\\n",
            "0      0.293367  1.082538e-01  -6259.724643          31.0          -35.0   \n",
            "1      0.087234  1.091592e+00  -6233.350598          34.0          -26.0   \n",
            "2      0.914998 -1.054855e+00  -9317.849120         244.0          152.0   \n",
            "3      1.113763 -7.517015e-02  -9350.680139          90.0           17.0   \n",
            "4      1.782747  6.880000e-06  -8372.272328         101.0           12.0   \n",
            "..          ...           ...           ...           ...            ...   \n",
            "127    0.410685 -4.823927e-01 -21253.622860         153.0          154.0   \n",
            "128    1.126447 -6.549394e-01 -23946.862910         215.0          111.0   \n",
            "129    1.608856  1.957960e-05 -16777.183780         216.0          113.0   \n",
            "130    1.569083 -2.364782e-01 -20963.366490         275.5          143.5   \n",
            "131    1.683023 -5.291770e-07 -25116.965100         116.0          109.0   \n",
            "\n",
            "     MeltingPoint  MolecularWeight  Density  \n",
            "0           -85.6            68.07   0.9400  \n",
            "1          -100.0            60.05   0.9740  \n",
            "2            38.0            88.06   1.3200  \n",
            "3             4.0            90.08   1.0700  \n",
            "4            11.5            88.11   1.0340  \n",
            "..            ...              ...      ...  \n",
            "127          14.0           136.17   1.3310  \n",
            "128         -56.0           182.15   1.0710  \n",
            "129         -45.0           178.18   0.9862  \n",
            "130         -30.0           222.28   1.0130  \n",
            "131          39.5           264.32   1.1750  \n",
            "\n",
            "[132 rows x 12 columns]\n"
          ]
        }
      ]
    },
    {
      "cell_type": "code",
      "source": [
        "best_models = []"
      ],
      "metadata": {
        "id": "dIy7OFmRKcgY"
      },
      "execution_count": null,
      "outputs": []
    },
    {
      "cell_type": "code",
      "source": [
        "kf = KFold(n_splits=10, shuffle=True, random_state=42)"
      ],
      "metadata": {
        "id": "98JC1pJn5JdV"
      },
      "execution_count": null,
      "outputs": []
    },
    {
      "cell_type": "code",
      "source": [
        "import itertools   "
      ],
      "metadata": {
        "id": "5rGTggWl-v0p"
      },
      "execution_count": null,
      "outputs": []
    },
    {
      "cell_type": "code",
      "source": [
        "# Iterate over all possible combinations of predictor variables\n",
        "for i in range(1, len(X.columns)+1):\n",
        "    for comb in itertools.combinations(X.columns, i):\n",
        "        # Fit a multiple linear regression model using the current combination of predictor variables\n",
        "        model = LinearRegression()\n",
        "        scores = cross_val_score(model, X[list(comb)], y, scoring='neg_mean_squared_error', cv=kf)\n",
        "        # print(\"score:\", scores)\n",
        "        # Calculate the average neg_mean_squared_error across the folds\n",
        "        nmse = scores.mean()\n",
        "        # Store the model if it has the highest R-squared value so far\n",
        "        if len(best_models) == 0 or nmse > best_models[0]['nmse']:\n",
        "            best_models = [{'predictors': comb, 'nmse': nmse}]\n",
        "        elif r2 == best_models[0]['nmse']:\n",
        "            best_models.append({'predictors': comb, 'nmse': nmse})"
      ],
      "metadata": {
        "id": "oE2FO38X5LaT"
      },
      "execution_count": null,
      "outputs": []
    },
    {
      "cell_type": "code",
      "source": [
        "# Print the best models\n",
        "for model in best_models:\n",
        "    print('Predictor variables:', model['predictors'])\n",
        "    print('neg_mean_squared_error:', model['nmse'])"
      ],
      "metadata": {
        "colab": {
          "base_uri": "https://localhost:8080/"
        },
        "id": "aRukrPFA5Urf",
        "outputId": "351fc1c0-fc5a-4715-d076-24ea00aaccd3"
      },
      "execution_count": null,
      "outputs": [
        {
          "output_type": "stream",
          "name": "stdout",
          "text": [
            "Predictor variables: ('Electronegativity', 'LUMOenergy', 'FlashingPoint', 'MolecularWeight', 'Density')\n",
            "R-squared: -0.8277001206693486\n"
          ]
        }
      ]
    },
    {
      "cell_type": "code",
      "source": [
        "X_new = data_df.loc[:, ['Electronegativity', 'LUMOenergy', 'FlashingPoint', 'MolecularWeight', 'Density']] #choose the best one from what we get above\n",
        "y_new = data_df['CoordinationEnergy']"
      ],
      "metadata": {
        "id": "MGLUV9zwgT89"
      },
      "execution_count": null,
      "outputs": []
    },
    {
      "cell_type": "code",
      "source": [
        "from sklearn.model_selection import train_test_split\n",
        "x_train,x_test,y_train,y_test=train_test_split(X_new, y_new, test_size=0.3,random_state=0)"
      ],
      "metadata": {
        "id": "G3DgeXZdst43"
      },
      "execution_count": null,
      "outputs": []
    },
    {
      "cell_type": "code",
      "source": [
        "from sklearn.linear_model import LinearRegression\n",
        "ml=LinearRegression()\n",
        "ml.fit(x_train,y_train)"
      ],
      "metadata": {
        "colab": {
          "base_uri": "https://localhost:8080/"
        },
        "id": "D5xyA-FNrfGL",
        "outputId": "c25e2df2-29a6-49ed-f532-6bb028ec8e26"
      },
      "execution_count": null,
      "outputs": [
        {
          "output_type": "execute_result",
          "data": {
            "text/plain": [
              "LinearRegression()"
            ]
          },
          "metadata": {},
          "execution_count": 13
        }
      ]
    },
    {
      "cell_type": "code",
      "source": [
        "y_pred=ml.predict(x_test)\n",
        "print(y_pred)"
      ],
      "metadata": {
        "colab": {
          "base_uri": "https://localhost:8080/"
        },
        "id": "hF0fTgs2tM-V",
        "outputId": "d6a4b8a2-feca-4893-dcca-477cded163f3"
      },
      "execution_count": null,
      "outputs": [
        {
          "output_type": "stream",
          "name": "stdout",
          "text": [
            "[-5.46436994 -0.59464194 -1.85180448 -2.14220418 -2.1073704  -5.98722958\n",
            " -5.96312379 -6.434673   -0.44066983 -5.74470888 -6.38149539 -1.74190956\n",
            " -5.72321105 -6.21749874 -1.21211081 -1.42930856 -5.88036189 -6.33007314\n",
            " -1.80506732 -2.56114845 -1.55872844 -2.7413339  -6.26157515 -0.18358273\n",
            " -2.14573662 -2.16055873 -1.94367958 -1.34688952 -2.01439983 -4.91739342\n",
            " -2.70033113 -8.68226078 -1.52826774 -1.67440426 -6.67635461 -1.66941431\n",
            " -1.18759844 -6.2758379  -3.62027029 -1.27871034]\n"
          ]
        }
      ]
    },
    {
      "cell_type": "code",
      "source": [
        "from sklearn.metrics import r2_score\n",
        "r2_score(y_test, y_pred)"
      ],
      "metadata": {
        "colab": {
          "base_uri": "https://localhost:8080/"
        },
        "id": "y498bAWitjWN",
        "outputId": "cb07018d-4a65-45a7-91d7-0c1ac0c4bf8d"
      },
      "execution_count": null,
      "outputs": [
        {
          "output_type": "execute_result",
          "data": {
            "text/plain": [
              "0.8425405141752846"
            ]
          },
          "metadata": {},
          "execution_count": 15
        }
      ]
    },
    {
      "cell_type": "code",
      "source": [
        "import matplotlib.pyplot as plt\n",
        "plt.figure(figsize=(10,10))\n",
        "plt.scatter(y_test,y_pred)\n",
        "plt.xlabel('Actual')\n",
        "plt.ylabel('Predicted')\n",
        "plt.title('Actual Vs Predicted')"
      ],
      "metadata": {
        "colab": {
          "base_uri": "https://localhost:8080/",
          "height": 638
        },
        "id": "vbnJagL4typJ",
        "outputId": "336fc389-e6e9-422d-f357-0ecb59d0c7f7"
      },
      "execution_count": null,
      "outputs": [
        {
          "output_type": "execute_result",
          "data": {
            "text/plain": [
              "Text(0.5, 1.0, 'Actual Vs Predicted')"
            ]
          },
          "metadata": {},
          "execution_count": 16
        },
        {
          "output_type": "display_data",
          "data": {
            "text/plain": [
              "<Figure size 720x720 with 1 Axes>"
            ],
            "image/png": "[encoded data removed]"
          },
          "metadata": {
            "needs_background": "light"
          }
        }
      ]
    },
    {
      "cell_type": "code",
      "source": [
        "pred_y_df = pd.DataFrame({'Actual Value':y_test, \"Predicted Value\":y_pred, 'difference':y_test - y_pred})\n",
        "pred_y_df[0:100]"
      ],
      "metadata": {
        "colab": {
          "base_uri": "https://localhost:8080/",
          "height": 1000
        },
        "id": "TrM3oljvqwhT",
        "outputId": "689a0836-f276-4d7d-e55f-788bed843462"
      },
      "execution_count": null,
      "outputs": [
        {
          "output_type": "execute_result",
          "data": {
            "text/plain": [
              "     Actual Value  Predicted Value  difference\n",
              "93      -5.519170        -5.464370   -0.054800\n",
              "66      -1.817927        -0.594642   -1.223285\n",
              "26      -1.845060        -1.851804    0.006744\n",
              "8       -1.583207        -2.142204    0.558997\n",
              "30      -2.936907        -2.107370   -0.829537\n",
              "91      -5.333120        -5.987230    0.654109\n",
              "109     -6.002407        -5.963124   -0.039283\n",
              "100     -5.753997        -6.434673    0.680676\n",
              "44      -0.917829        -0.440670   -0.477159\n",
              "101     -5.481747        -5.744709    0.262962\n",
              "99      -5.763251        -6.381495    0.618244\n",
              "56      -1.534602        -1.741910    0.207308\n",
              "43      -4.536688        -5.723211    1.186523\n",
              "96      -4.731565        -6.217499    1.485934\n",
              "22      -2.433387        -1.212111   -1.221276\n",
              "78      -1.594721        -1.429309   -0.165413\n",
              "95      -5.593262        -5.880362    0.287100\n",
              "97      -5.199544        -6.330073    1.130529\n",
              "7       -2.232496        -1.805067   -0.427429\n",
              "24      -2.283783        -2.561148    0.277366\n",
              "61      -1.606956        -1.558728   -0.048227\n",
              "10      -2.168937        -2.741334    0.572397\n",
              "108     -6.231651        -6.261575    0.029924\n",
              "45      -1.717219        -0.183583   -1.533637\n",
              "16      -2.327851        -2.145737   -0.182115\n",
              "2       -2.422717        -2.160559   -0.262159\n",
              "68      -1.624125        -1.943680    0.319554\n",
              "63      -2.064006        -1.346890   -0.717116\n",
              "71      -1.872663        -2.014400    0.141737\n",
              "86      -2.805098        -4.917393    2.112295\n",
              "33      -2.365855        -2.700331    0.334476\n",
              "129    -11.886802        -8.682261   -3.204541\n",
              "60      -1.673150        -1.528268   -0.144882\n",
              "73      -1.944239        -1.674404   -0.269835\n",
              "125     -6.971017        -6.676355   -0.294663\n",
              "13      -1.872812        -1.669414   -0.203398\n",
              "51      -1.597636        -1.187598   -0.410038\n",
              "126     -6.735461        -6.275838   -0.459623\n",
              "84      -2.037375        -3.620270    1.582895\n",
              "50      -1.471058        -1.278710   -0.192348"
            ],
            "text/html": [
              "\n",
              "  <div id=\"df-0cfcce10-6037-4518-a677-360041c30703\">\n",
              "    <div class=\"colab-df-container\">\n",
              "      <div>\n",
              "<style scoped>\n",
              "    .dataframe tbody tr th:only-of-type {\n",
              "        vertical-align: middle;\n",
              "    }\n",
              "\n",
              "    .dataframe tbody tr th {\n",
              "        vertical-align: top;\n",
              "    }\n",
              "\n",
              "    .dataframe thead th {\n",
              "        text-align: right;\n",
              "    }\n",
              "</style>\n",
              "<table border=\"1\" class=\"dataframe\">\n",
              "  <thead>\n",
              "    <tr style=\"text-align: right;\">\n",
              "      <th></th>\n",
              "      <th>Actual Value</th>\n",
              "      <th>Predicted Value</th>\n",
              "      <th>difference</th>\n",
              "    </tr>\n",
              "  </thead>\n",
              "  <tbody>\n",
              "    <tr>\n",
              "      <th>93</th>\n",
              "      <td>-5.519170</td>\n",
              "      <td>-5.464370</td>\n",
              "      <td>-0.054800</td>\n",
              "    </tr>\n",
              "    <tr>\n",
              "      <th>66</th>\n",
              "      <td>-1.817927</td>\n",
              "      <td>-0.594642</td>\n",
              "      <td>-1.223285</td>\n",
              "    </tr>\n",
              "    <tr>\n",
              "      <th>26</th>\n",
              "      <td>-1.845060</td>\n",
              "      <td>-1.851804</td>\n",
              "      <td>0.006744</td>\n",
              "    </tr>\n",
              "    <tr>\n",
              "      <th>8</th>\n",
              "      <td>-1.583207</td>\n",
              "      <td>-2.142204</td>\n",
              "      <td>0.558997</td>\n",
              "    </tr>\n",
              "    <tr>\n",
              "      <th>30</th>\n",
              "      <td>-2.936907</td>\n",
              "      <td>-2.107370</td>\n",
              "      <td>-0.829537</td>\n",
              "    </tr>\n",
              "    <tr>\n",
              "      <th>91</th>\n",
              "      <td>-5.333120</td>\n",
              "      <td>-5.987230</td>\n",
              "      <td>0.654109</td>\n",
              "    </tr>\n",
              "    <tr>\n",
              "      <th>109</th>\n",
              "      <td>-6.002407</td>\n",
              "      <td>-5.963124</td>\n",
              "      <td>-0.039283</td>\n",
              "    </tr>\n",
              "    <tr>\n",
              "      <th>100</th>\n",
              "      <td>-5.753997</td>\n",
              "      <td>-6.434673</td>\n",
              "      <td>0.680676</td>\n",
              "    </tr>\n",
              "    <tr>\n",
              "      <th>44</th>\n",
              "      <td>-0.917829</td>\n",
              "      <td>-0.440670</td>\n",
              "      <td>-0.477159</td>\n",
              "    </tr>\n",
              "    <tr>\n",
              "      <th>101</th>\n",
              "      <td>-5.481747</td>\n",
              "      <td>-5.744709</td>\n",
              "      <td>0.262962</td>\n",
              "    </tr>\n",
              "    <tr>\n",
              "      <th>99</th>\n",
              "      <td>-5.763251</td>\n",
              "      <td>-6.381495</td>\n",
              "      <td>0.618244</td>\n",
              "    </tr>\n",
              "    <tr>\n",
              "      <th>56</th>\n",
              "      <td>-1.534602</td>\n",
              "      <td>-1.741910</td>\n",
              "      <td>0.207308</td>\n",
              "    </tr>\n",
              "    <tr>\n",
              "      <th>43</th>\n",
              "      <td>-4.536688</td>\n",
              "      <td>-5.723211</td>\n",
              "      <td>1.186523</td>\n",
              "    </tr>\n",
              "    <tr>\n",
              "      <th>96</th>\n",
              "      <td>-4.731565</td>\n",
              "      <td>-6.217499</td>\n",
              "      <td>1.485934</td>\n",
              "    </tr>\n",
              "    <tr>\n",
              "      <th>22</th>\n",
              "      <td>-2.433387</td>\n",
              "      <td>-1.212111</td>\n",
              "      <td>-1.221276</td>\n",
              "    </tr>\n",
              "    <tr>\n",
              "      <th>78</th>\n",
              "      <td>-1.594721</td>\n",
              "      <td>-1.429309</td>\n",
              "      <td>-0.165413</td>\n",
              "    </tr>\n",
              "    <tr>\n",
              "      <th>95</th>\n",
              "      <td>-5.593262</td>\n",
              "      <td>-5.880362</td>\n",
              "      <td>0.287100</td>\n",
              "    </tr>\n",
              "    <tr>\n",
              "      <th>97</th>\n",
              "      <td>-5.199544</td>\n",
              "      <td>-6.330073</td>\n",
              "      <td>1.130529</td>\n",
              "    </tr>\n",
              "    <tr>\n",
              "      <th>7</th>\n",
              "      <td>-2.232496</td>\n",
              "      <td>-1.805067</td>\n",
              "      <td>-0.427429</td>\n",
              "    </tr>\n",
              "    <tr>\n",
              "      <th>24</th>\n",
              "      <td>-2.283783</td>\n",
              "      <td>-2.561148</td>\n",
              "      <td>0.277366</td>\n",
              "    </tr>\n",
              "    <tr>\n",
              "      <th>61</th>\n",
              "      <td>-1.606956</td>\n",
              "      <td>-1.558728</td>\n",
              "      <td>-0.048227</td>\n",
              "    </tr>\n",
              "    <tr>\n",
              "      <th>10</th>\n",
              "      <td>-2.168937</td>\n",
              "      <td>-2.741334</td>\n",
              "      <td>0.572397</td>\n",
              "    </tr>\n",
              "    <tr>\n",
              "      <th>108</th>\n",
              "      <td>-6.231651</td>\n",
              "      <td>-6.261575</td>\n",
              "      <td>0.029924</td>\n",
              "    </tr>\n",
              "    <tr>\n",
              "      <th>45</th>\n",
              "      <td>-1.717219</td>\n",
              "      <td>-0.183583</td>\n",
              "      <td>-1.533637</td>\n",
              "    </tr>\n",
              "    <tr>\n",
              "      <th>16</th>\n",
              "      <td>-2.327851</td>\n",
              "      <td>-2.145737</td>\n",
              "      <td>-0.182115</td>\n",
              "    </tr>\n",
              "    <tr>\n",
              "      <th>2</th>\n",
              "      <td>-2.422717</td>\n",
              "      <td>-2.160559</td>\n",
              "      <td>-0.262159</td>\n",
              "    </tr>\n",
              "    <tr>\n",
              "      <th>68</th>\n",
              "      <td>-1.624125</td>\n",
              "      <td>-1.943680</td>\n",
              "      <td>0.319554</td>\n",
              "    </tr>\n",
              "    <tr>\n",
              "      <th>63</th>\n",
              "      <td>-2.064006</td>\n",
              "      <td>-1.346890</td>\n",
              "      <td>-0.717116</td>\n",
              "    </tr>\n",
              "    <tr>\n",
              "      <th>71</th>\n",
              "      <td>-1.872663</td>\n",
              "      <td>-2.014400</td>\n",
              "      <td>0.141737</td>\n",
              "    </tr>\n",
              "    <tr>\n",
              "      <th>86</th>\n",
              "      <td>-2.805098</td>\n",
              "      <td>-4.917393</td>\n",
              "      <td>2.112295</td>\n",
              "    </tr>\n",
              "    <tr>\n",
              "      <th>33</th>\n",
              "      <td>-2.365855</td>\n",
              "      <td>-2.700331</td>\n",
              "      <td>0.334476</td>\n",
              "    </tr>\n",
              "    <tr>\n",
              "      <th>129</th>\n",
              "      <td>-11.886802</td>\n",
              "      <td>-8.682261</td>\n",
              "      <td>-3.204541</td>\n",
              "    </tr>\n",
              "    <tr>\n",
              "      <th>60</th>\n",
              "      <td>-1.673150</td>\n",
              "      <td>-1.528268</td>\n",
              "      <td>-0.144882</td>\n",
              "    </tr>\n",
              "    <tr>\n",
              "      <th>73</th>\n",
              "      <td>-1.944239</td>\n",
              "      <td>-1.674404</td>\n",
              "      <td>-0.269835</td>\n",
              "    </tr>\n",
              "    <tr>\n",
              "      <th>125</th>\n",
              "      <td>-6.971017</td>\n",
              "      <td>-6.676355</td>\n",
              "      <td>-0.294663</td>\n",
              "    </tr>\n",
              "    <tr>\n",
              "      <th>13</th>\n",
              "      <td>-1.872812</td>\n",
              "      <td>-1.669414</td>\n",
              "      <td>-0.203398</td>\n",
              "    </tr>\n",
              "    <tr>\n",
              "      <th>51</th>\n",
              "      <td>-1.597636</td>\n",
              "      <td>-1.187598</td>\n",
              "      <td>-0.410038</td>\n",
              "    </tr>\n",
              "    <tr>\n",
              "      <th>126</th>\n",
              "      <td>-6.735461</td>\n",
              "      <td>-6.275838</td>\n",
              "      <td>-0.459623</td>\n",
              "    </tr>\n",
              "    <tr>\n",
              "      <th>84</th>\n",
              "      <td>-2.037375</td>\n",
              "      <td>-3.620270</td>\n",
              "      <td>1.582895</td>\n",
              "    </tr>\n",
              "    <tr>\n",
              "      <th>50</th>\n",
              "      <td>-1.471058</td>\n",
              "      <td>-1.278710</td>\n",
              "      <td>-0.192348</td>\n",
              "    </tr>\n",
              "  </tbody>\n",
              "</table>\n",
              "</div>\n",
              "      <button class=\"colab-df-convert\" onclick=\"convertToInteractive('df-0cfcce10-6037-4518-a677-360041c30703')\"\n",
              "              title=\"Convert this dataframe to an interactive table.\"\n",
              "              style=\"display:none;\">\n",
              "        \n",
              "  <svg xmlns=\"http://www.w3.org/2000/svg\" height=\"24px\"viewBox=\"0 0 24 24\"\n",
              "       width=\"24px\">\n",
              "    <path d=\"M0 0h24v24H0V0z\" fill=\"none\"/>\n",
              "    <path d=\"M18.56 5.44l.94 2.06.94-2.06 2.06-.94-2.06-.94-.94-2.06-.94 2.06-2.06.94zm-11 1L8.5 8.5l.94-2.06 2.06-.94-2.06-.94L8.5 2.5l-.94 2.06-2.06.94zm10 10l.94 2.06.94-2.06 2.06-.94-2.06-.94-.94-2.06-.94 2.06-2.06.94z\"/><path d=\"M17.41 7.96l-1.37-1.37c-.4-.4-.92-.59-1.43-.59-.52 0-1.04.2-1.43.59L10.3 9.45l-7.72 7.72c-.78.78-.78 2.05 0 2.83L4 21.41c.39.39.9.59 1.41.59.51 0 1.02-.2 1.41-.59l7.78-7.78 2.81-2.81c.8-.78.8-2.07 0-2.86zM5.41 20L4 18.59l7.72-7.72 1.47 1.35L5.41 20z\"/>\n",
              "  </svg>\n",
              "      </button>\n",
              "      \n",
              "  <style>\n",
              "    .colab-df-container {\n",
              "      display:flex;\n",
              "      flex-wrap:wrap;\n",
              "      gap: 12px;\n",
              "    }\n",
              "\n",
              "    .colab-df-convert {\n",
              "      background-color: #E8F0FE;\n",
              "      border: none;\n",
              "      border-radius: 50%;\n",
              "      cursor: pointer;\n",
              "      display: none;\n",
              "      fill: #1967D2;\n",
              "      height: 32px;\n",
              "      padding: 0 0 0 0;\n",
              "      width: 32px;\n",
              "    }\n",
              "\n",
              "    .colab-df-convert:hover {\n",
              "      background-color: #E2EBFA;\n",
              "      box-shadow: 0px 1px 2px rgba(60, 64, 67, 0.3), 0px 1px 3px 1px rgba(60, 64, 67, 0.15);\n",
              "      fill: #174EA6;\n",
              "    }\n",
              "\n",
              "    [theme=dark] .colab-df-convert {\n",
              "      background-color: #3B4455;\n",
              "      fill: #D2E3FC;\n",
              "    }\n",
              "\n",
              "    [theme=dark] .colab-df-convert:hover {\n",
              "      background-color: #434B5C;\n",
              "      box-shadow: 0px 1px 3px 1px rgba(0, 0, 0, 0.15);\n",
              "      filter: drop-shadow(0px 1px 2px rgba(0, 0, 0, 0.3));\n",
              "      fill: #FFFFFF;\n",
              "    }\n",
              "  </style>\n",
              "\n",
              "      <script>\n",
              "        const buttonEl =\n",
              "          document.querySelector('#df-0cfcce10-6037-4518-a677-360041c30703 button.colab-df-convert');\n",
              "        buttonEl.style.display =\n",
              "          google.colab.kernel.accessAllowed ? 'block' : 'none';\n",
              "\n",
              "        async function convertToInteractive(key) {\n",
              "          const element = document.querySelector('#df-0cfcce10-6037-4518-a677-360041c30703');\n",
              "          const dataTable =\n",
              "            await google.colab.kernel.invokeFunction('convertToInteractive',\n",
              "                                                     [key], {});\n",
              "          if (!dataTable) return;\n",
              "\n",
              "          const docLinkHtml = 'Like what you see? Visit the ' +\n",
              "            '<a target=\"_blank\" href=https://colab.research.google.com/notebooks/data_table.ipynb>data table notebook</a>'\n",
              "            + ' to learn more about interactive tables.';\n",
              "          element.innerHTML = '';\n",
              "          dataTable['output_type'] = 'display_data';\n",
              "          await google.colab.output.renderOutput(dataTable, element);\n",
              "          const docLink = document.createElement('div');\n",
              "          docLink.innerHTML = docLinkHtml;\n",
              "          element.appendChild(docLink);\n",
              "        }\n",
              "      </script>\n",
              "    </div>\n",
              "  </div>\n",
              "  "
            ]
          },
          "metadata": {},
          "execution_count": 17
        }
      ]
    }
  ]
}